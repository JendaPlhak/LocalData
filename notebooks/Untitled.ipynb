{
 "cells": [
  {
   "cell_type": "code",
   "execution_count": 5,
   "metadata": {
    "collapsed": true
   },
   "outputs": [],
   "source": [
    "import urllib"
   ]
  },
  {
   "cell_type": "code",
   "execution_count": 2,
   "metadata": {
    "collapsed": false
   },
   "outputs": [],
   "source": [
    "params = urllib.parse.urlencode(urllib.parse.parse_qsl(\n",
    "        \"keywords=pronájem bytu&created_from=2016-04-04&dashboard_id=59&order=score&search_with=sql&page=1\"\n",
    "))\n",
    "url = \"https://edesky.cz/api/v1/documents?\" + params"
   ]
  },
  {
   "cell_type": "code",
   "execution_count": 3,
   "metadata": {
    "collapsed": false
   },
   "outputs": [
    {
     "data": {
      "text/plain": [
       "'https://edesky.cz/api/v1/documents?keywords=pron%C3%A1jem+bytu&created_from=2016-04-04&dashboard_id=59&order=score&search_with=sql&page=1'"
      ]
     },
     "execution_count": 3,
     "metadata": {},
     "output_type": "execute_result"
    }
   ],
   "source": [
    "url"
   ]
  },
  {
   "cell_type": "code",
   "execution_count": 4,
   "metadata": {
    "collapsed": false
   },
   "outputs": [],
   "source": []
  },
  {
   "cell_type": "code",
   "execution_count": 39,
   "metadata": {
    "collapsed": false
   },
   "outputs": [],
   "source": [
    "from pyquery import PyQuery as pq\n",
    "import requests\n",
    "\n",
    "response = requests.get(url)\n",
    "\n",
    "def edesky_text_urls(xml_content):\n",
    "    src = pq(xml_content)\n",
    "    for doc in src(\"document\"):\n",
    "        yield {\n",
    "            \"doc_name\": doc.attrib.get(\"name\"),\n",
    "            \"doc_text_url\": doc.attrib.get(\"edesky_text_url\"),\n",
    "            \"doc_orig_url\": doc.attrib.get(\"orig_url\")\n",
    "        }"
   ]
  },
  {
   "cell_type": "code",
   "execution_count": 40,
   "metadata": {
    "collapsed": false
   },
   "outputs": [
    {
     "data": {
      "text/plain": [
       "[{'doc_name': 'I. kolo výběrového řízení na pronájem obecního bytu č. 25, v ul. Nevanova č.p. 1052, Praha 6 - Řepy',\n",
       "  'doc_orig_url': 'http://www.repy.cz/umc/osom/i-kolo-vyberoveho-rizeni-na-pronajem-obecniho-bytu-c-25-v-ul',\n",
       "  'doc_text_url': 'https://edesky.cz/dokument/442079.txt'},\n",
       " {'doc_name': 'Oznámení o zrušení výběrového řízení na pronájem bytu na adrese: Nad Kajetánkou 1402/3B',\n",
       "  'doc_orig_url': 'http://www.praha6.cz/tabule/oznameni-o-zruseni-vyberoveho-rizeni-na-pronajem-bytu-na-adrese-nad-kajetankou-14023b-2016-06-03.html?archiv=',\n",
       "  'doc_text_url': 'https://edesky.cz/dokument/427056.txt'},\n",
       " {'doc_name': 'Záměr - \"Pronájem 2 bytů v domech svěřených do správy MČ Praha 15\"\\n Dokument ke stažení',\n",
       "  'doc_orig_url': 'http://www.praha15.cz/uredni-deska/uredni-deska.html?year=2016&number=386',\n",
       "  'doc_text_url': 'https://edesky.cz/dokument/426076.txt'},\n",
       " {'doc_name': 'Záměr na pronájem bytu ve veřejné soutěži formou licitace - Maňákova 754',\n",
       "  'doc_orig_url': 'https://edeska.praha14.cz/eDeska/eDeskaDetail.jsp?detailId=1510',\n",
       "  'doc_text_url': 'https://edesky.cz/dokument/413616.txt'},\n",
       " {'doc_name': 'Záměr na pronájem bytu ve veřejné soutěži formou licitace - Kardašovská 755',\n",
       "  'doc_orig_url': 'https://edeska.praha14.cz/eDeska/eDeskaDetail.jsp?detailId=1511',\n",
       "  'doc_text_url': 'https://edesky.cz/dokument/413615.txt'},\n",
       " {'doc_name': 'Záměr na pronájem bytu ve veřejné soutěži formou licitace - Ronešova 1133',\n",
       "  'doc_orig_url': 'https://edeska.praha14.cz/eDeska/eDeskaDetail.jsp?detailId=1512',\n",
       "  'doc_text_url': 'https://edesky.cz/dokument/413614.txt'},\n",
       " {'doc_name': 'Záměr na pronájem bytu ve veřejné soutěži formou licitace - Maňákova 745',\n",
       "  'doc_orig_url': 'https://edeska.praha14.cz/eDeska/eDeskaDetail.jsp?detailId=1513',\n",
       "  'doc_text_url': 'https://edesky.cz/dokument/413613.txt'},\n",
       " {'doc_name': 'Výběrové řízení na pronájem bytu v domě s pečovatelskou službou Šlejnická 2593/5, Praha 6- byt č. 101',\n",
       "  'doc_orig_url': 'http://www.praha6.cz/tabule/vyberove-rizeni-na-pornajem-bytu-v-dome-s-pecovatelskou-sluzbou-slejnicka-25935-praha-2016-05-19.html?archiv=',\n",
       "  'doc_text_url': 'https://edesky.cz/dokument/410902.txt'},\n",
       " {'doc_name': 'IS - zveřejnění výzvy na pronájem bytů BD Malešice',\n",
       "  'doc_orig_url': 'http://byty.praha10.cz/eDeska/eDeskaDetail.jsp?detailId=54641',\n",
       "  'doc_text_url': 'https://edesky.cz/dokument/399787.txt'},\n",
       " {'doc_name': 'Výběrové řízení na pronájem bytu na adrese: Bělohorská 1673- byt č. 2, 1+1',\n",
       "  'doc_orig_url': 'http://www.praha6.cz/tabule/vyberove-rizeni-na-pronajem-bytu-na-adrese-belohorska-1673-byt-c-2-11-2016-04-26.html?archiv=',\n",
       "  'doc_text_url': 'https://edesky.cz/dokument/386894.txt'},\n",
       " {'doc_name': 'Výběrové řízení na pronájem bytu na adrese: Bělohorská 1676- byt č. 7, 2+1',\n",
       "  'doc_orig_url': 'http://www.praha6.cz/tabule/vyberove-rizeni-na-pronajem-bytu-na-adrese-belohorska-1676-byt-c-7-21-2016-04-26.html?archiv=',\n",
       "  'doc_text_url': 'https://edesky.cz/dokument/386893.txt'},\n",
       " {'doc_name': 'Výběrové řízení na pronájem bytu na adrese: Rooseveltova 617- byt č. 19, 2+kk',\n",
       "  'doc_orig_url': 'http://www.praha6.cz/tabule/vyberove-rizeni-na-pronajem-bytu-na-adrese-rooseveltova-617-byt-c-19-2kk-2016-04-26.html?archiv=',\n",
       "  'doc_text_url': 'https://edesky.cz/dokument/386892.txt'},\n",
       " {'doc_name': 'Výběrové řízení na pronájem bytu na adrese: Bělohorská 1673- byt č. 1, 1+1',\n",
       "  'doc_orig_url': 'http://www.praha6.cz/tabule/vyberove-rizeni-na-pronajem-bytu-na-adrese-belohorska-1673-byt-c-1-11-2016-04-26.html?archiv=',\n",
       "  'doc_text_url': 'https://edesky.cz/dokument/386891.txt'},\n",
       " {'doc_name': 'Záměr - \"Pronájem 4 bytů v domech svěřených do správy MČ Praha 15\"\\n Dokument ke stažení',\n",
       "  'doc_orig_url': 'http://www.praha15.cz/uredni-deska/uredni-deska.html?year=2016&number=286',\n",
       "  'doc_text_url': 'https://edesky.cz/dokument/386448.txt'},\n",
       " {'doc_name': 'Výběrové řízení na pronájem bytu v bytovém domě Nová Ořechovka na adrese: Na Dračkách 1095/34- byt č. 27, 1+kk',\n",
       "  'doc_orig_url': 'http://www.praha6.cz/tabule/vyberove-rizeni-na-pronajem-bytu-v-bytovem-dome-nova-orechovka-na-adrese-na-drackach--2016-04-26.html?archiv=',\n",
       "  'doc_text_url': 'https://edesky.cz/dokument/386394.txt'},\n",
       " {'doc_name': 'Výběrové řízení na pronájem bytu na adrese: Dejvická 688/27- byt č. 18, 1+1',\n",
       "  'doc_orig_url': 'http://www.praha6.cz/tabule/vyberove-rizeni-na-pronajem-bytu-na-adrese-dejvicka-68827-byt-c-18-11-2016-04-26.html?archiv=',\n",
       "  'doc_text_url': 'https://edesky.cz/dokument/386393.txt'},\n",
       " {'doc_name': 'Výběrové řízení na pronájem bytu na adrese: Jílkova 95/6- byt č. 16, 1+1',\n",
       "  'doc_orig_url': 'http://www.praha6.cz/tabule/vyberove-rizeni-na-pronajem-bytu-na-adrese-jilkova-956-byt-c-16-11-2016-04-26.html?archiv=',\n",
       "  'doc_text_url': 'https://edesky.cz/dokument/386392.txt'},\n",
       " {'doc_name': 'Výběrové řízení na pronájem bytu na adrese: Jílkova 95/6- byt č. 15, 1+1',\n",
       "  'doc_orig_url': 'http://www.praha6.cz/tabule/vyberove-rizeni-na-pronajem-bytu-na-adrese-jilkova-956-byt-c-15-11-2016-04-26.html?archiv=',\n",
       "  'doc_text_url': 'https://edesky.cz/dokument/386391.txt'},\n",
       " {'doc_name': 'Výběrové řízení na pronájem bytu na adrese: Nad Kajetánkou 1401/5B, byt č. 7, 1+1',\n",
       "  'doc_orig_url': 'http://www.praha6.cz/tabule/vyberove-rizeni-na-pronajem-bytu-na-adrese-nad-kajetankou-14015b-byt-c-7-11-2016-04-26.html?archiv=',\n",
       "  'doc_text_url': 'https://edesky.cz/dokument/386389.txt'},\n",
       " {'doc_name': 'Výběrové řízení na pronájem bytu na adrese: Jílkova 92/4- byt č. 17, 1+1',\n",
       "  'doc_orig_url': 'http://www.praha6.cz/tabule/vyberove-rizeni-na-pronajem-bytu-na-adrese-jilkova-924-byt-c-17-11-2016-04-26.html?archiv=',\n",
       "  'doc_text_url': 'https://edesky.cz/dokument/386388.txt'},\n",
       " {'doc_name': 'Výběrové řízení na pronájem bytu na adrese: Nad Kajetánkou 1402/3B- byt č. 2, 1+1',\n",
       "  'doc_orig_url': 'http://www.praha6.cz/tabule/vyberove-rizeni-na-pronajem-bytu-na-adrese-nad-kajetankou-14023b-byt-c-2-11-2016-04-26.html?archiv=',\n",
       "  'doc_text_url': 'https://edesky.cz/dokument/386387.txt'},\n",
       " {'doc_name': 'Výběrové řízení na pronájem bytu na adrese: Nad Kajetánkou 1401/5B- byt č. 5, 1+1',\n",
       "  'doc_orig_url': 'http://www.praha6.cz/tabule/vyberove-rizeni-na-pronajem-bytu-na-adrese-nad-kajetankou-14015b-byt-c-5-11-2016-04-26.html?archiv=',\n",
       "  'doc_text_url': 'https://edesky.cz/dokument/386386.txt'},\n",
       " {'doc_name': 'Výběrové řízení na pronájem bytu na adrese: Jílkova 95/6- byt č. 6, 1+1',\n",
       "  'doc_orig_url': 'http://www.praha6.cz/tabule/vyberove-rizeni-na-pronajem-bytu-na-adrese-jilkova-956-byt-c-6-11-2016-04-26.html?archiv=',\n",
       "  'doc_text_url': 'https://edesky.cz/dokument/386385.txt'},\n",
       " {'doc_name': 'Nabídka na\\xa0pronájem volného bytu č.\\xa081 v\\xa0ulici Lomařská 820, Praha – Zbraslav',\n",
       "  'doc_orig_url': 'http://www.mc-zbraslav.cz/radnice-a-urad/uredni-deska-1/nabidka-na-pronajem-volneho-bytu-c-81-v-ulici-lomarska-820-praha-zbraslav-804.html',\n",
       "  'doc_text_url': 'https://edesky.cz/dokument/381116.txt'},\n",
       " {'doc_name': 'Výběrové řízení na pronájem bytu -  Katusická 684, byt č. 9, 2/1',\n",
       "  'doc_orig_url': 'http://kbely.imunis.cz/edeska/detail.asp?id=4771',\n",
       "  'doc_text_url': 'https://edesky.cz/dokument/370916.txt'}]"
      ]
     },
     "execution_count": 40,
     "metadata": {},
     "output_type": "execute_result"
    }
   ],
   "source": [
    "list(edesky_text_urls(response.content))"
   ]
  },
  {
   "cell_type": "code",
   "execution_count": null,
   "metadata": {
    "collapsed": true
   },
   "outputs": [],
   "source": []
  }
 ],
 "metadata": {
  "kernelspec": {
   "display_name": "Python 3",
   "language": "python",
   "name": "python3"
  },
  "language_info": {
   "codemirror_mode": {
    "name": "ipython",
    "version": 3
   },
   "file_extension": ".py",
   "mimetype": "text/x-python",
   "name": "python",
   "nbconvert_exporter": "python",
   "pygments_lexer": "ipython3",
   "version": "3.5.1"
  }
 },
 "nbformat": 4,
 "nbformat_minor": 0
}
