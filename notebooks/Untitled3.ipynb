{
 "cells": [
  {
   "cell_type": "code",
   "execution_count": 3,
   "metadata": {
    "collapsed": true
   },
   "outputs": [],
   "source": [
    "import geocoder\n",
    "\n",
    "MAPQUEST_KEY = 'OfSOmTltOxOz7eu5WIvXGFFusOOKERIK'"
   ]
  },
  {
   "cell_type": "code",
   "execution_count": 4,
   "metadata": {
    "collapsed": false
   },
   "outputs": [
    {
     "data": {
      "text/plain": [
       "<[OK] Mapquest - Geocode [14 Karoliny Světlé]>"
      ]
     },
     "execution_count": 4,
     "metadata": {},
     "output_type": "execute_result"
    }
   ],
   "source": [
    "geocoder.mapquest(\"Kar. Světlé 14, Praha, CZ\", key=MAPQUEST_KEY)"
   ]
  },
  {
   "cell_type": "code",
   "execution_count": 55,
   "metadata": {
    "collapsed": false
   },
   "outputs": [
    {
     "data": {
      "text/plain": [
       "{'info': {'copyright': {'imageAltText': '© 2016 MapQuest, Inc.',\n",
       "   'imageUrl': 'http://api.mqcdn.com/res/mqlogo.gif',\n",
       "   'text': '© 2016 MapQuest, Inc.'},\n",
       "  'messages': [],\n",
       "  'statuscode': 0},\n",
       " 'options': {'ignoreLatLngInput': False, 'maxResults': 1, 'thumbMaps': True},\n",
       " 'results': [{'locations': [{'adminArea1': 'CZ',\n",
       "     'adminArea1Type': 'Country',\n",
       "     'adminArea3': 'Prague',\n",
       "     'adminArea3Type': 'State',\n",
       "     'adminArea4': '',\n",
       "     'adminArea4Type': 'County',\n",
       "     'adminArea5': '',\n",
       "     'adminArea5Type': 'City',\n",
       "     'adminArea6': '',\n",
       "     'adminArea6Type': 'Neighborhood',\n",
       "     'displayLatLng': {'lat': 50.087811, 'lng': 14.42046},\n",
       "     'dragPoint': False,\n",
       "     'geocodeQuality': 'STATE',\n",
       "     'geocodeQualityCode': 'A3XAX',\n",
       "     'latLng': {'lat': 50.087811, 'lng': 14.42046},\n",
       "     'linkId': 'u2fkbnhwthdq',\n",
       "     'mapUrl': 'http://www.mapquestapi.com/staticmap/v4/getmap?key=OfSOmTltOxOz7eu5WIvXGFFusOOKERIK&type=map&size=225,160&pois=purple-1,50.087811,14.42046,0,0,|&center=50.087811,14.42046&zoom=5&rand=1496467196',\n",
       "     'postalCode': '',\n",
       "     'sideOfStreet': 'N',\n",
       "     'street': '',\n",
       "     'type': 's',\n",
       "     'unknownInput': ''}],\n",
       "   'providedLocation': {'location': 'Praha 1, Praha, CZ'}}]}"
      ]
     },
     "execution_count": 55,
     "metadata": {},
     "output_type": "execute_result"
    }
   ],
   "source": [
    "#geocoder.mapquest(\"nám. Míru 14, Praha, CZ\", key=MAPQUEST_KEY).content\n",
    "geocoder.mapquest(\"Praha 1, Praha, CZ\", key=MAPQUEST_KEY).content"
   ]
  },
  {
   "cell_type": "code",
   "execution_count": 68,
   "metadata": {
    "collapsed": false
   },
   "outputs": [],
   "source": [
    "#res = geocoder.google(\"nám. Míru 14, Praha, CZ\")\n",
    "res = geocoder.google(\"Praha 3, Praha, CZ\")"
   ]
  },
  {
   "cell_type": "code",
   "execution_count": 70,
   "metadata": {
    "collapsed": false
   },
   "outputs": [
    {
     "data": {
      "text/plain": [
       "[50.0854115, 14.4543504]"
      ]
     },
     "execution_count": 70,
     "metadata": {},
     "output_type": "execute_result"
    }
   ],
   "source": [
    "res.latlng"
   ]
  },
  {
   "cell_type": "code",
   "execution_count": 72,
   "metadata": {
    "collapsed": false
   },
   "outputs": [
    {
     "data": {
      "text/plain": [
       "[50.0874654, 14.4212503]"
      ]
     },
     "execution_count": 72,
     "metadata": {},
     "output_type": "execute_result"
    }
   ],
   "source": [
    "#geocoder.osm(\"nám. Míru 14, Praha, CZ\").content\n",
    "geocoder.osm(\"Praha 1, Praha, CZ\").latlng"
   ]
  },
  {
   "cell_type": "code",
   "execution_count": 12,
   "metadata": {
    "collapsed": false
   },
   "outputs": [
    {
     "data": {
      "text/plain": [
       "<[OK] Osm - Geocode [227/14, náměstí Míru, Vinohrady, Praha, okres Hlavní město Praha, Hlavní město Praha, Praha, 12000, Česko]>"
      ]
     },
     "execution_count": 12,
     "metadata": {},
     "output_type": "execute_result"
    }
   ],
   "source": [
    "geocoder.osm(\"Míru 14, Praha, CZ\")"
   ]
  },
  {
   "cell_type": "code",
   "execution_count": null,
   "metadata": {
    "collapsed": true
   },
   "outputs": [],
   "source": []
  }
 ],
 "metadata": {
  "kernelspec": {
   "display_name": "Python 3",
   "language": "python",
   "name": "python3"
  },
  "language_info": {
   "codemirror_mode": {
    "name": "ipython",
    "version": 3
   },
   "file_extension": ".py",
   "mimetype": "text/x-python",
   "name": "python",
   "nbconvert_exporter": "python",
   "pygments_lexer": "ipython3",
   "version": "3.5.1"
  }
 },
 "nbformat": 4,
 "nbformat_minor": 0
}
