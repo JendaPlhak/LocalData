{
 "cells": [
  {
   "cell_type": "code",
   "execution_count": 3,
   "metadata": {
    "collapsed": true
   },
   "outputs": [],
   "source": [
    "import geocoder\n",
    "\n",
    "MAPQUEST_KEY = 'OfSOmTltOxOz7eu5WIvXGFFusOOKERIK'"
   ]
  },
  {
   "cell_type": "code",
   "execution_count": 83,
   "metadata": {
    "collapsed": false
   },
   "outputs": [
    {
     "data": {
      "text/plain": [
       "''"
      ]
     },
     "execution_count": 83,
     "metadata": {},
     "output_type": "execute_result"
    }
   ],
   "source": [
    "geocoder.mapquest(\"Kar. Světlé 14, Praha, CZ\", key=MAPQUEST_KEY).accuracy"
   ]
  },
  {
   "cell_type": "code",
   "execution_count": 92,
   "metadata": {
    "collapsed": false
   },
   "outputs": [
    {
     "data": {
      "text/plain": [
       "{'info': {'copyright': {'imageAltText': '© 2016 MapQuest, Inc.',\n",
       "   'imageUrl': 'http://api.mqcdn.com/res/mqlogo.gif',\n",
       "   'text': '© 2016 MapQuest, Inc.'},\n",
       "  'messages': [],\n",
       "  'statuscode': 0},\n",
       " 'options': {'ignoreLatLngInput': False, 'maxResults': 1, 'thumbMaps': True},\n",
       " 'results': [{'locations': [{'adminArea1': 'CZ',\n",
       "     'adminArea1Type': 'Country',\n",
       "     'adminArea3': 'Prague',\n",
       "     'adminArea3Type': 'State',\n",
       "     'adminArea4': '',\n",
       "     'adminArea4Type': 'County',\n",
       "     'adminArea5': 'Prague',\n",
       "     'adminArea5Type': 'City',\n",
       "     'adminArea6': '',\n",
       "     'adminArea6Type': 'Neighborhood',\n",
       "     'displayLatLng': {'lat': 50.076685, 'lng': 14.416497},\n",
       "     'dragPoint': False,\n",
       "     'geocodeQuality': 'STREET',\n",
       "     'geocodeQualityCode': 'B3AAA',\n",
       "     'latLng': {'lat': 50.076685, 'lng': 14.416497},\n",
       "     'linkId': 'u2fkbh1vbdxt',\n",
       "     'mapUrl': 'http://www.mapquestapi.com/staticmap/v4/getmap?key=OfSOmTltOxOz7eu5WIvXGFFusOOKERIK&type=map&size=225,160&pois=purple-1,50.0766849,14.4164974,0,0,|&center=50.0766849,14.4164974&zoom=15&rand=1457076922',\n",
       "     'postalCode': '12000',\n",
       "     'sideOfStreet': 'N',\n",
       "     'street': 'Na Zderaze',\n",
       "     'type': 's',\n",
       "     'unknownInput': ''}],\n",
       "   'providedLocation': {'location': 'Na Zderaze 260, Prague, CZ'}}]}"
      ]
     },
     "execution_count": 92,
     "metadata": {},
     "output_type": "execute_result"
    }
   ],
   "source": [
    "#geocoder.mapquest(\"nám. Míru 14, Praha, CZ\", key=MAPQUEST_KEY).content\n",
    "geocoder.mapquest(\"Na Zderaze 260, Prague, CZ\", key=MAPQUEST_KEY).content\n",
    "#geocoder.mapquest(\"Praha 1, Praha, CZ\", key=MAPQUEST_KEY).content"
   ]
  },
  {
   "cell_type": "code",
   "execution_count": 80,
   "metadata": {
    "collapsed": false
   },
   "outputs": [
    {
     "name": "stdout",
     "output_type": "stream",
     "text": [
      "ROOFTOP\n",
      "ROOFTOP\n",
      "APPROXIMATE\n",
      "GEOMETRIC_CENTER\n"
     ]
    }
   ],
   "source": [
    "print(geocoder.google(\"nám. Míru 14, Praha, CZ\").accuracy)\n",
    "print(geocoder.google(\"Na Zderaze 260, Prague, CZ\").accuracy)\n",
    "print(geocoder.google(\"Praha, Prague, CZ\").accuracy)\n",
    "print(geocoder.google(\"Václavské náměstí, Prague, CZ\").accuracy)"
   ]
  },
  {
   "cell_type": "code",
   "execution_count": 88,
   "metadata": {
    "collapsed": false
   },
   "outputs": [
    {
     "name": "stdout",
     "output_type": "stream",
     "text": [
      "ADDRESS\n",
      "CITY\n",
      "CITY\n",
      "STREET\n"
     ]
    }
   ],
   "source": [
    "print(geocoder.mapquest(\"nám. Míru 14, Praha, CZ\", key=MAPQUEST_KEY).quality)\n",
    "print(geocoder.mapquest(\"Na Zderaze 260, Prague, CZ\", key=MAPQUEST_KEY).quality)\n",
    "print(geocoder.mapquest(\"Praha, Prague, CZ\", key=MAPQUEST_KEY).quality)\n",
    "print(geocoder.mapquest(\"Václavské náměstí, Prague, CZ\", key=MAPQUEST_KEY).quality)"
   ]
  },
  {
   "cell_type": "code",
   "execution_count": 85,
   "metadata": {
    "collapsed": false
   },
   "outputs": [
    {
     "name": "stdout",
     "output_type": "stream",
     "text": [
      "house\n",
      "house\n",
      "city\n",
      "residential\n"
     ]
    }
   ],
   "source": [
    "print(geocoder.osm(\"nám. Míru 14, Praha, CZ\", key=MAPQUEST_KEY).quality)\n",
    "print(geocoder.osm(\"Na Zderaze 260, Prague, CZ\", key=MAPQUEST_KEY).quality)\n",
    "print(geocoder.osm(\"Praha, Prague, CZ\", key=MAPQUEST_KEY).quality)\n",
    "print(geocoder.osm(\"Václavské náměstí, Prague, CZ\", key=MAPQUEST_KEY).quality)"
   ]
  },
  {
   "cell_type": "code",
   "execution_count": 12,
   "metadata": {
    "collapsed": false
   },
   "outputs": [
    {
     "data": {
      "text/plain": [
       "<[OK] Osm - Geocode [227/14, náměstí Míru, Vinohrady, Praha, okres Hlavní město Praha, Hlavní město Praha, Praha, 12000, Česko]>"
      ]
     },
     "execution_count": 12,
     "metadata": {},
     "output_type": "execute_result"
    }
   ],
   "source": [
    "geocoder.osm(\"Míru 14, Praha, CZ\")"
   ]
  },
  {
   "cell_type": "code",
   "execution_count": null,
   "metadata": {
    "collapsed": true
   },
   "outputs": [],
   "source": []
  }
 ],
 "metadata": {
  "kernelspec": {
   "display_name": "Python 3",
   "language": "python",
   "name": "python3"
  },
  "language_info": {
   "codemirror_mode": {
    "name": "ipython",
    "version": 3
   },
   "file_extension": ".py",
   "mimetype": "text/x-python",
   "name": "python",
   "nbconvert_exporter": "python",
   "pygments_lexer": "ipython3",
   "version": "3.5.1"
  }
 },
 "nbformat": 4,
 "nbformat_minor": 0
}
