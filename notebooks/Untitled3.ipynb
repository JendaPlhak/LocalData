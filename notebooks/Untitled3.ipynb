{
 "cells": [
  {
   "cell_type": "code",
   "execution_count": 3,
   "metadata": {
    "collapsed": true
   },
   "outputs": [],
   "source": [
    "import geocoder\n",
    "\n",
    "MAPQUEST_KEY = 'OfSOmTltOxOz7eu5WIvXGFFusOOKERIK'"
   ]
  },
  {
   "cell_type": "code",
   "execution_count": 4,
   "metadata": {
    "collapsed": false
   },
   "outputs": [
    {
     "data": {
      "text/plain": [
       "<[OK] Mapquest - Geocode [14 Karoliny Světlé]>"
      ]
     },
     "execution_count": 4,
     "metadata": {},
     "output_type": "execute_result"
    }
   ],
   "source": [
    "geocoder.mapquest(\"Kar. Světlé 14, Praha, CZ\", key=MAPQUEST_KEY)"
   ]
  },
  {
   "cell_type": "code",
   "execution_count": 55,
   "metadata": {
    "collapsed": false
   },
   "outputs": [
    {
     "data": {
      "text/plain": [
       "{'info': {'copyright': {'imageAltText': '© 2016 MapQuest, Inc.',\n",
       "   'imageUrl': 'http://api.mqcdn.com/res/mqlogo.gif',\n",
       "   'text': '© 2016 MapQuest, Inc.'},\n",
       "  'messages': [],\n",
       "  'statuscode': 0},\n",
       " 'options': {'ignoreLatLngInput': False, 'maxResults': 1, 'thumbMaps': True},\n",
       " 'results': [{'locations': [{'adminArea1': 'CZ',\n",
       "     'adminArea1Type': 'Country',\n",
       "     'adminArea3': 'Prague',\n",
       "     'adminArea3Type': 'State',\n",
       "     'adminArea4': '',\n",
       "     'adminArea4Type': 'County',\n",
       "     'adminArea5': '',\n",
       "     'adminArea5Type': 'City',\n",
       "     'adminArea6': '',\n",
       "     'adminArea6Type': 'Neighborhood',\n",
       "     'displayLatLng': {'lat': 50.087811, 'lng': 14.42046},\n",
       "     'dragPoint': False,\n",
       "     'geocodeQuality': 'STATE',\n",
       "     'geocodeQualityCode': 'A3XAX',\n",
       "     'latLng': {'lat': 50.087811, 'lng': 14.42046},\n",
       "     'linkId': 'u2fkbnhwthdq',\n",
       "     'mapUrl': 'http://www.mapquestapi.com/staticmap/v4/getmap?key=OfSOmTltOxOz7eu5WIvXGFFusOOKERIK&type=map&size=225,160&pois=purple-1,50.087811,14.42046,0,0,|&center=50.087811,14.42046&zoom=5&rand=1496467196',\n",
       "     'postalCode': '',\n",
       "     'sideOfStreet': 'N',\n",
       "     'street': '',\n",
       "     'type': 's',\n",
       "     'unknownInput': ''}],\n",
       "   'providedLocation': {'location': 'Praha 1, Praha, CZ'}}]}"
      ]
     },
     "execution_count": 55,
     "metadata": {},
     "output_type": "execute_result"
    }
   ],
   "source": [
    "#geocoder.mapquest(\"nám. Míru 14, Praha, CZ\", key=MAPQUEST_KEY).content\n",
    "geocoder.mapquest(\"Praha 1, Praha, CZ\", key=MAPQUEST_KEY).content"
   ]
  },
  {
   "cell_type": "code",
   "execution_count": 64,
   "metadata": {
    "collapsed": false
   },
   "outputs": [],
   "source": [
    "#res = geocoder.google(\"nám. Míru 14, Praha, CZ\")\n",
    "res = geocoder.google(\"Praha 1, Praha, CZ\")"
   ]
  },
  {
   "cell_type": "code",
   "execution_count": 65,
   "metadata": {
    "collapsed": false
   },
   "outputs": [
    {
     "data": {
      "text/plain": [
       "{'results': [{'address_components': [{'long_name': 'Prague 1',\n",
       "     'short_name': 'Prague 1',\n",
       "     'types': ['sublocality_level_1', 'sublocality', 'political']},\n",
       "    {'long_name': 'Prague',\n",
       "     'short_name': 'Prague',\n",
       "     'types': ['locality', 'political']},\n",
       "    {'long_name': 'Hlavní město Praha',\n",
       "     'short_name': 'Hlavní město Praha',\n",
       "     'types': ['administrative_area_level_2', 'political']},\n",
       "    {'long_name': 'Prague',\n",
       "     'short_name': 'Prague',\n",
       "     'types': ['administrative_area_level_1', 'political']},\n",
       "    {'long_name': 'Czech Republic',\n",
       "     'short_name': 'CZ',\n",
       "     'types': ['country', 'political']}],\n",
       "   'formatted_address': 'Prague 1, Czech Republic',\n",
       "   'geometry': {'bounds': {'northeast': {'lat': 50.0953756, 'lng': 14.4377527},\n",
       "     'southwest': {'lat': 50.0755934, 'lng': 14.3847432}},\n",
       "    'location': {'lat': 50.0878334, 'lng': 14.4210489},\n",
       "    'location_type': 'APPROXIMATE',\n",
       "    'viewport': {'northeast': {'lat': 50.0953756, 'lng': 14.4377527},\n",
       "     'southwest': {'lat': 50.0755934, 'lng': 14.3847432}}},\n",
       "   'place_id': 'ChIJP9OBE-mUC0cR8gwkXBCvACY',\n",
       "   'types': ['sublocality_level_1', 'sublocality', 'political']}],\n",
       " 'status': 'OK'}"
      ]
     },
     "execution_count": 65,
     "metadata": {},
     "output_type": "execute_result"
    }
   ],
   "source": [
    "res.content"
   ]
  },
  {
   "cell_type": "code",
   "execution_count": 57,
   "metadata": {
    "collapsed": false
   },
   "outputs": [
    {
     "data": {
      "text/plain": [
       "[{'address': {'city': 'Praha',\n",
       "   'country': 'Česko',\n",
       "   'country_code': 'cz',\n",
       "   'county': 'okres Hlavní město Praha',\n",
       "   'state': 'Praha'},\n",
       "  'boundingbox': ['49.9419006', '50.1774301', '14.2244355', '14.7067869'],\n",
       "  'category': 'place',\n",
       "  'display_name': 'Praha, okres Hlavní město Praha, Hlavní město Praha, Praha, Česko',\n",
       "  'icon': 'https://nominatim.openstreetmap.org/images/mapicons/poi_place_city.p.20.png',\n",
       "  'importance': 0.98339483510068,\n",
       "  'lat': '50.0874654',\n",
       "  'licence': 'Data © OpenStreetMap contributors, ODbL 1.0. http://www.openstreetmap.org/copyright',\n",
       "  'lon': '14.4212503',\n",
       "  'osm_id': '439840',\n",
       "  'osm_type': 'relation',\n",
       "  'place_id': '142323009',\n",
       "  'place_rank': 16,\n",
       "  'type': 'city'}]"
      ]
     },
     "execution_count": 57,
     "metadata": {},
     "output_type": "execute_result"
    }
   ],
   "source": [
    "#geocoder.osm(\"nám. Míru 14, Praha, CZ\").content\n",
    "geocoder.osm(\"Praha 1, Praha, CZ\").content"
   ]
  },
  {
   "cell_type": "code",
   "execution_count": 12,
   "metadata": {
    "collapsed": false
   },
   "outputs": [
    {
     "data": {
      "text/plain": [
       "<[OK] Osm - Geocode [227/14, náměstí Míru, Vinohrady, Praha, okres Hlavní město Praha, Hlavní město Praha, Praha, 12000, Česko]>"
      ]
     },
     "execution_count": 12,
     "metadata": {},
     "output_type": "execute_result"
    }
   ],
   "source": [
    "geocoder.osm(\"Míru 14, Praha, CZ\")"
   ]
  },
  {
   "cell_type": "code",
   "execution_count": null,
   "metadata": {
    "collapsed": true
   },
   "outputs": [],
   "source": []
  }
 ],
 "metadata": {
  "kernelspec": {
   "display_name": "Python 3",
   "language": "python",
   "name": "python3"
  },
  "language_info": {
   "codemirror_mode": {
    "name": "ipython",
    "version": 3
   },
   "file_extension": ".py",
   "mimetype": "text/x-python",
   "name": "python",
   "nbconvert_exporter": "python",
   "pygments_lexer": "ipython3",
   "version": "3.5.1"
  }
 },
 "nbformat": 4,
 "nbformat_minor": 0
}
